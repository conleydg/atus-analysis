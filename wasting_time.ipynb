{
 "cells": [
  {
   "cell_type": "markdown",
   "metadata": {
    "collapsed": true
   },
   "source": [
    "# Wasting Time"
   ]
  },
  {
   "cell_type": "code",
   "execution_count": 1,
   "metadata": {
    "collapsed": true
   },
   "outputs": [],
   "source": [
    "import data\n",
    "import pandas as pd\n",
    "import numpy as np\n",
    "import datetime\n",
    "import matplotlib.pyplot as plt\n",
    "from pandas.tools.plotting import autocorrelation_plot\n",
    "import seaborn\n",
    "\n",
    "%matplotlib inline"
   ]
  },
  {
   "cell_type": "markdown",
   "metadata": {},
   "source": [
    "## Reading and parsing in survey data"
   ]
  },
  {
   "cell_type": "code",
   "execution_count": 2,
   "metadata": {
    "collapsed": false
   },
   "outputs": [],
   "source": [
    "columns_needed = ('TUCASEID', 'TRTALONE', 'TRTCHILD', 'TRTFAMILY',\n",
    "                  'TRTFRIEND', 'TRTSPONLY', 'TRTSPOUSE', 'TRTALONE_WK')\n",
    "column_names = ('idnum', 'numofchildren', 'numofpeopleinhouse', 'alonetime', 'timewithkids')\n",
    "df1 = pd.read_table('data/atusresp_2014.dat', sep=',', usecols=columns_needed)\n",
    "df1 = df1.rename(columns={'TUCASEID':\"idnum\"})\n",
    "#df1.head(5)"
   ]
  },
  {
   "cell_type": "code",
   "execution_count": 3,
   "metadata": {
    "collapsed": false
   },
   "outputs": [],
   "source": [
    "columns_need = ('TUCASEID', 'TUACTIVITY_N', 'TEWHERE', 'TUACTDUR', 'TRCODE', 'TUTIER1CODE', \n",
    "                'TUTIER2CODE',)\n",
    "df2 = pd.read_table('data/atusact_2014.dat', sep=',', usecols=columns_need)\n",
    "df2 = df2.rename(columns={'TUACTIVITY_N':\"activitycount\", 'TEWHERE':'actloc', \n",
    "                          'TUACTDUR':'activduration', 'TUCASEID':'idnum'})\n",
    "#df2.head(5)"
   ]
  },
  {
   "cell_type": "code",
   "execution_count": 4,
   "metadata": {
    "collapsed": false
   },
   "outputs": [],
   "source": [
    "columns_nee = ('TUCASEID', 'GEDIV', 'HEFAMINC','HRNUMHOU')\n",
    "df3 = pd.read_table('data/atuscps_2014.dat', sep=',', usecols=columns_nee)\n",
    "df3 = df3.rename(columns={'GEDIV': 'Region', 'HEFAMINC': 'family_income',\n",
    "                        'HRNUMHOU':'num_people_in_household', 'TUCASEID':'idnum'})\n",
    "#df3.head()"
   ]
  },
  {
   "cell_type": "markdown",
   "metadata": {},
   "source": [
    "## Merging data into one dataframe based on id number"
   ]
  },
  {
   "cell_type": "code",
   "execution_count": 5,
   "metadata": {
    "collapsed": false,
    "scrolled": true
   },
   "outputs": [
    {
     "data": {
      "text/html": [
       "<div>\n",
       "<table border=\"1\" class=\"dataframe\">\n",
       "  <thead>\n",
       "    <tr style=\"text-align: right;\">\n",
       "      <th></th>\n",
       "      <th>activitycount</th>\n",
       "      <th>actloc</th>\n",
       "      <th>activduration</th>\n",
       "      <th>TUTIER1CODE</th>\n",
       "      <th>TUTIER2CODE</th>\n",
       "      <th>TRCODE</th>\n",
       "      <th>Region</th>\n",
       "      <th>family_income</th>\n",
       "      <th>num_people_in_household</th>\n",
       "      <th>TRTALONE</th>\n",
       "      <th>TRTALONE_WK</th>\n",
       "      <th>TRTCHILD</th>\n",
       "      <th>TRTFAMILY</th>\n",
       "      <th>TRTFRIEND</th>\n",
       "      <th>TRTSPONLY</th>\n",
       "      <th>TRTSPOUSE</th>\n",
       "    </tr>\n",
       "    <tr>\n",
       "      <th>idnum</th>\n",
       "      <th></th>\n",
       "      <th></th>\n",
       "      <th></th>\n",
       "      <th></th>\n",
       "      <th></th>\n",
       "      <th></th>\n",
       "      <th></th>\n",
       "      <th></th>\n",
       "      <th></th>\n",
       "      <th></th>\n",
       "      <th></th>\n",
       "      <th></th>\n",
       "      <th></th>\n",
       "      <th></th>\n",
       "      <th></th>\n",
       "      <th></th>\n",
       "    </tr>\n",
       "  </thead>\n",
       "  <tbody>\n",
       "    <tr>\n",
       "      <th>20140101140007</th>\n",
       "      <td>1</td>\n",
       "      <td>-1</td>\n",
       "      <td>540</td>\n",
       "      <td>1</td>\n",
       "      <td>1</td>\n",
       "      <td>10101</td>\n",
       "      <td>8</td>\n",
       "      <td>1</td>\n",
       "      <td>1</td>\n",
       "      <td>0</td>\n",
       "      <td>0</td>\n",
       "      <td>235</td>\n",
       "      <td>235</td>\n",
       "      <td>0</td>\n",
       "      <td>0</td>\n",
       "      <td>0</td>\n",
       "    </tr>\n",
       "    <tr>\n",
       "      <th>20140101140007</th>\n",
       "      <td>2</td>\n",
       "      <td>1</td>\n",
       "      <td>30</td>\n",
       "      <td>3</td>\n",
       "      <td>1</td>\n",
       "      <td>30101</td>\n",
       "      <td>8</td>\n",
       "      <td>1</td>\n",
       "      <td>1</td>\n",
       "      <td>0</td>\n",
       "      <td>0</td>\n",
       "      <td>235</td>\n",
       "      <td>235</td>\n",
       "      <td>0</td>\n",
       "      <td>0</td>\n",
       "      <td>0</td>\n",
       "    </tr>\n",
       "    <tr>\n",
       "      <th>20140101140007</th>\n",
       "      <td>3</td>\n",
       "      <td>-1</td>\n",
       "      <td>60</td>\n",
       "      <td>1</td>\n",
       "      <td>2</td>\n",
       "      <td>10201</td>\n",
       "      <td>8</td>\n",
       "      <td>1</td>\n",
       "      <td>1</td>\n",
       "      <td>0</td>\n",
       "      <td>0</td>\n",
       "      <td>235</td>\n",
       "      <td>235</td>\n",
       "      <td>0</td>\n",
       "      <td>0</td>\n",
       "      <td>0</td>\n",
       "    </tr>\n",
       "    <tr>\n",
       "      <th>20140101140007</th>\n",
       "      <td>4</td>\n",
       "      <td>13</td>\n",
       "      <td>10</td>\n",
       "      <td>18</td>\n",
       "      <td>11</td>\n",
       "      <td>181101</td>\n",
       "      <td>8</td>\n",
       "      <td>1</td>\n",
       "      <td>1</td>\n",
       "      <td>0</td>\n",
       "      <td>0</td>\n",
       "      <td>235</td>\n",
       "      <td>235</td>\n",
       "      <td>0</td>\n",
       "      <td>0</td>\n",
       "      <td>0</td>\n",
       "    </tr>\n",
       "    <tr>\n",
       "      <th>20140101140007</th>\n",
       "      <td>5</td>\n",
       "      <td>4</td>\n",
       "      <td>30</td>\n",
       "      <td>11</td>\n",
       "      <td>1</td>\n",
       "      <td>110101</td>\n",
       "      <td>8</td>\n",
       "      <td>1</td>\n",
       "      <td>1</td>\n",
       "      <td>0</td>\n",
       "      <td>0</td>\n",
       "      <td>235</td>\n",
       "      <td>235</td>\n",
       "      <td>0</td>\n",
       "      <td>0</td>\n",
       "      <td>0</td>\n",
       "    </tr>\n",
       "  </tbody>\n",
       "</table>\n",
       "</div>"
      ],
      "text/plain": [
       "                activitycount  actloc  activduration  TUTIER1CODE  \\\n",
       "idnum                                                               \n",
       "20140101140007              1      -1            540            1   \n",
       "20140101140007              2       1             30            3   \n",
       "20140101140007              3      -1             60            1   \n",
       "20140101140007              4      13             10           18   \n",
       "20140101140007              5       4             30           11   \n",
       "\n",
       "                TUTIER2CODE  TRCODE  Region  family_income  \\\n",
       "idnum                                                        \n",
       "20140101140007            1   10101       8              1   \n",
       "20140101140007            1   30101       8              1   \n",
       "20140101140007            2   10201       8              1   \n",
       "20140101140007           11  181101       8              1   \n",
       "20140101140007            1  110101       8              1   \n",
       "\n",
       "                num_people_in_household  TRTALONE  TRTALONE_WK  TRTCHILD  \\\n",
       "idnum                                                                      \n",
       "20140101140007                        1         0            0       235   \n",
       "20140101140007                        1         0            0       235   \n",
       "20140101140007                        1         0            0       235   \n",
       "20140101140007                        1         0            0       235   \n",
       "20140101140007                        1         0            0       235   \n",
       "\n",
       "                TRTFAMILY  TRTFRIEND  TRTSPONLY  TRTSPOUSE  \n",
       "idnum                                                       \n",
       "20140101140007        235          0          0          0  \n",
       "20140101140007        235          0          0          0  \n",
       "20140101140007        235          0          0          0  \n",
       "20140101140007        235          0          0          0  \n",
       "20140101140007        235          0          0          0  "
      ]
     },
     "execution_count": 5,
     "metadata": {},
     "output_type": "execute_result"
    }
   ],
   "source": [
    "result = df2.merge(df3, on='idnum', how='left')\n",
    "result = result.merge(df1, on='idnum', how='left')\n",
    "result = result.drop_duplicates()\n",
    "result.index = result.idnum\n",
    "result = result.drop('idnum', 1)\n",
    "result = result[(result.TUTIER1CODE < 19)]\n",
    "result.head()"
   ]
  },
  {
   "cell_type": "markdown",
   "metadata": {},
   "source": [
    "## Converting Region code to name"
   ]
  },
  {
   "cell_type": "code",
   "execution_count": 6,
   "metadata": {
    "collapsed": false
   },
   "outputs": [],
   "source": [
    "region_code = ['New England', 'Middle Atlantic', 'East North Central', 'West North Central', \n",
    "               'South Atlantic', 'East South Central', 'West South Central', 'Mountain', \n",
    "               'Pacific']\n",
    "result.Region = result['Region'].apply(lambda x: region_code[x-1])"
   ]
  },
  {
   "cell_type": "markdown",
   "metadata": {},
   "source": [
    "## Minutes of work vs Income"
   ]
  },
  {
   "cell_type": "code",
   "execution_count": 7,
   "metadata": {
    "collapsed": false
   },
   "outputs": [
    {
     "data": {
      "text/plain": [
       "<matplotlib.axes._subplots.AxesSubplot at 0x104298630>"
      ]
     },
     "execution_count": 7,
     "metadata": {},
     "output_type": "execute_result"
    },
    {
     "data": {
      "image/png": "[encoded data removed]",
      "text/plain": [
       "<matplotlib.figure.Figure at 0x109d9c630>"
      ]
     },
     "metadata": {},
     "output_type": "display_data"
    }
   ],
   "source": [
    "corr = result.family_income.corr(result.activduration)\n",
    "work_sort = result[(result.TUTIER1CODE == 5)]\n",
    "work_sort = work_sort.groupby(['family_income']).mean()\n",
    "(work_sort.activduration).plot.bar(title='Minutes of work vs income\\n corr = {}'.format(corr))\n"
   ]
  },
  {
   "cell_type": "markdown",
   "metadata": {},
   "source": [
    "## Family Income by Region"
   ]
  },
  {
   "cell_type": "code",
   "execution_count": 8,
   "metadata": {
    "collapsed": false
   },
   "outputs": [
    {
     "data": {
      "text/plain": [
       "<matplotlib.axes._subplots.AxesSubplot at 0x105b27eb8>"
      ]
     },
     "execution_count": 8,
     "metadata": {},
     "output_type": "execute_result"
    },
    {
     "data": {
      "image/png": "[encoded data removed]",
      "text/plain": [
       "<matplotlib.figure.Figure at 0x1052ec5c0>"
      ]
     },
     "metadata": {},
     "output_type": "display_data"
    }
   ],
   "source": [
    "#region_sort = result[(result.TUTIER1CODE == 5)]\n",
    "region_sort = result.groupby(['Region']).mean()\n",
    "(region_sort.family_income).plot.barh(title='Family Income by Region')"
   ]
  },
  {
   "cell_type": "markdown",
   "metadata": {},
   "source": [
    "## Family Income by number of people in household"
   ]
  },
  {
   "cell_type": "code",
   "execution_count": 9,
   "metadata": {
    "collapsed": false
   },
   "outputs": [
    {
     "data": {
      "text/plain": [
       "<matplotlib.axes._subplots.AxesSubplot at 0x109e43518>"
      ]
     },
     "execution_count": 9,
     "metadata": {},
     "output_type": "execute_result"
    },
    {
     "data": {
      "image/png": "[encoded data removed]",
      "text/plain": [
       "<matplotlib.figure.Figure at 0x109e52780>"
      ]
     },
     "metadata": {},
     "output_type": "display_data"
    }
   ],
   "source": [
    "corr = result.family_income.corr(result.num_people_in_household)\n",
    "num_in_household_sort = result.groupby(['num_people_in_household']).mean()\n",
    "(num_in_household_sort.family_income).plot.bar(title='Family Income by Number of people in'\n",
    "                                               ' household\\n corr = {}'.format(corr))"
   ]
  },
  {
   "cell_type": "markdown",
   "metadata": {},
   "source": [
    "## Minutes worked vs number of people in household"
   ]
  },
  {
   "cell_type": "code",
   "execution_count": 10,
   "metadata": {
    "collapsed": false
   },
   "outputs": [
    {
     "data": {
      "text/plain": [
       "<matplotlib.axes._subplots.AxesSubplot at 0x109e1f278>"
      ]
     },
     "execution_count": 10,
     "metadata": {},
     "output_type": "execute_result"
    },
    {
     "data": {
      "image/png": "[encoded data removed]",
      "text/plain": [
       "<matplotlib.figure.Figure at 0x10ca587f0>"
      ]
     },
     "metadata": {},
     "output_type": "display_data"
    }
   ],
   "source": [
    "household_work_sort = result[(result.TUTIER1CODE == 5)]\n",
    "corr = (household_work_sort.activduration).corr(household_work_sort['num_people_in_household'])\n",
    "household_work_sort = household_work_sort.groupby(['num_people_in_household']).mean()\n",
    "\n",
    "(household_work_sort.activduration).plot.bar(title='Minutes worked by number of people in'\n",
    "                                             'household\\n corr = {}'.format(corr))"
   ]
  },
  {
   "cell_type": "markdown",
   "metadata": {},
   "source": [
    "## Sorting DataFrame by Region"
   ]
  },
  {
   "cell_type": "code",
   "execution_count": 11,
   "metadata": {
    "collapsed": false
   },
   "outputs": [
    {
     "data": {
      "text/html": [
       "<div>\n",
       "<table border=\"1\" class=\"dataframe\">\n",
       "  <thead>\n",
       "    <tr>\n",
       "      <th></th>\n",
       "      <th colspan=\"5\" halign=\"left\">activitycount</th>\n",
       "      <th colspan=\"5\" halign=\"left\">actloc</th>\n",
       "      <th>...</th>\n",
       "      <th colspan=\"5\" halign=\"left\">TRTSPONLY</th>\n",
       "      <th colspan=\"5\" halign=\"left\">TRTSPOUSE</th>\n",
       "    </tr>\n",
       "    <tr>\n",
       "      <th></th>\n",
       "      <th>count</th>\n",
       "      <th>sum</th>\n",
       "      <th>mean</th>\n",
       "      <th>median</th>\n",
       "      <th>std</th>\n",
       "      <th>count</th>\n",
       "      <th>sum</th>\n",
       "      <th>mean</th>\n",
       "      <th>median</th>\n",
       "      <th>std</th>\n",
       "      <th>...</th>\n",
       "      <th>count</th>\n",
       "      <th>sum</th>\n",
       "      <th>mean</th>\n",
       "      <th>median</th>\n",
       "      <th>std</th>\n",
       "      <th>count</th>\n",
       "      <th>sum</th>\n",
       "      <th>mean</th>\n",
       "      <th>median</th>\n",
       "      <th>std</th>\n",
       "    </tr>\n",
       "    <tr>\n",
       "      <th>Region</th>\n",
       "      <th></th>\n",
       "      <th></th>\n",
       "      <th></th>\n",
       "      <th></th>\n",
       "      <th></th>\n",
       "      <th></th>\n",
       "      <th></th>\n",
       "      <th></th>\n",
       "      <th></th>\n",
       "      <th></th>\n",
       "      <th></th>\n",
       "      <th></th>\n",
       "      <th></th>\n",
       "      <th></th>\n",
       "      <th></th>\n",
       "      <th></th>\n",
       "      <th></th>\n",
       "      <th></th>\n",
       "      <th></th>\n",
       "      <th></th>\n",
       "      <th></th>\n",
       "    </tr>\n",
       "  </thead>\n",
       "  <tbody>\n",
       "    <tr>\n",
       "      <th>East North Central</th>\n",
       "      <td>35375</td>\n",
       "      <td>416705</td>\n",
       "      <td>11.779647</td>\n",
       "      <td>10</td>\n",
       "      <td>8.252077</td>\n",
       "      <td>35375</td>\n",
       "      <td>140222</td>\n",
       "      <td>3.963873</td>\n",
       "      <td>1</td>\n",
       "      <td>6.709645</td>\n",
       "      <td>...</td>\n",
       "      <td>35375</td>\n",
       "      <td>2991541</td>\n",
       "      <td>84.566530</td>\n",
       "      <td>0</td>\n",
       "      <td>167.974134</td>\n",
       "      <td>35375</td>\n",
       "      <td>5664459</td>\n",
       "      <td>160.126049</td>\n",
       "      <td>0</td>\n",
       "      <td>239.355960</td>\n",
       "    </tr>\n",
       "    <tr>\n",
       "      <th>East South Central</th>\n",
       "      <td>13204</td>\n",
       "      <td>150734</td>\n",
       "      <td>11.415783</td>\n",
       "      <td>10</td>\n",
       "      <td>7.888631</td>\n",
       "      <td>13204</td>\n",
       "      <td>52816</td>\n",
       "      <td>4.000000</td>\n",
       "      <td>1</td>\n",
       "      <td>7.304855</td>\n",
       "      <td>...</td>\n",
       "      <td>13204</td>\n",
       "      <td>1073662</td>\n",
       "      <td>81.313390</td>\n",
       "      <td>0</td>\n",
       "      <td>167.874332</td>\n",
       "      <td>13204</td>\n",
       "      <td>2126523</td>\n",
       "      <td>161.051424</td>\n",
       "      <td>0</td>\n",
       "      <td>242.516071</td>\n",
       "    </tr>\n",
       "    <tr>\n",
       "      <th>Middle Atlantic</th>\n",
       "      <td>27727</td>\n",
       "      <td>330811</td>\n",
       "      <td>11.931006</td>\n",
       "      <td>10</td>\n",
       "      <td>8.578665</td>\n",
       "      <td>27727</td>\n",
       "      <td>113044</td>\n",
       "      <td>4.077037</td>\n",
       "      <td>1</td>\n",
       "      <td>7.135652</td>\n",
       "      <td>...</td>\n",
       "      <td>27727</td>\n",
       "      <td>2181260</td>\n",
       "      <td>78.669167</td>\n",
       "      <td>0</td>\n",
       "      <td>158.442218</td>\n",
       "      <td>27727</td>\n",
       "      <td>4298571</td>\n",
       "      <td>155.031954</td>\n",
       "      <td>0</td>\n",
       "      <td>232.138266</td>\n",
       "    </tr>\n",
       "    <tr>\n",
       "      <th>Mountain</th>\n",
       "      <td>15838</td>\n",
       "      <td>185455</td>\n",
       "      <td>11.709496</td>\n",
       "      <td>10</td>\n",
       "      <td>8.083757</td>\n",
       "      <td>15838</td>\n",
       "      <td>62765</td>\n",
       "      <td>3.962937</td>\n",
       "      <td>1</td>\n",
       "      <td>6.949176</td>\n",
       "      <td>...</td>\n",
       "      <td>15838</td>\n",
       "      <td>1340510</td>\n",
       "      <td>84.638843</td>\n",
       "      <td>0</td>\n",
       "      <td>163.872849</td>\n",
       "      <td>15838</td>\n",
       "      <td>2556193</td>\n",
       "      <td>161.396199</td>\n",
       "      <td>0</td>\n",
       "      <td>229.011062</td>\n",
       "    </tr>\n",
       "    <tr>\n",
       "      <th>New England</th>\n",
       "      <td>10348</td>\n",
       "      <td>124983</td>\n",
       "      <td>12.077986</td>\n",
       "      <td>11</td>\n",
       "      <td>8.495197</td>\n",
       "      <td>10348</td>\n",
       "      <td>40416</td>\n",
       "      <td>3.905682</td>\n",
       "      <td>1</td>\n",
       "      <td>7.161045</td>\n",
       "      <td>...</td>\n",
       "      <td>10348</td>\n",
       "      <td>999630</td>\n",
       "      <td>96.601276</td>\n",
       "      <td>0</td>\n",
       "      <td>177.273041</td>\n",
       "      <td>10348</td>\n",
       "      <td>1892851</td>\n",
       "      <td>182.919501</td>\n",
       "      <td>0</td>\n",
       "      <td>248.571837</td>\n",
       "    </tr>\n",
       "  </tbody>\n",
       "</table>\n",
       "<p>5 rows × 75 columns</p>\n",
       "</div>"
      ],
      "text/plain": [
       "                   activitycount                                     actloc  \\\n",
       "                           count     sum       mean median       std  count   \n",
       "Region                                                                        \n",
       "East North Central         35375  416705  11.779647     10  8.252077  35375   \n",
       "East South Central         13204  150734  11.415783     10  7.888631  13204   \n",
       "Middle Atlantic            27727  330811  11.931006     10  8.578665  27727   \n",
       "Mountain                   15838  185455  11.709496     10  8.083757  15838   \n",
       "New England                10348  124983  12.077986     11  8.495197  10348   \n",
       "\n",
       "                                                          ...     TRTSPONLY  \\\n",
       "                       sum      mean median       std     ...         count   \n",
       "Region                                                    ...                 \n",
       "East North Central  140222  3.963873      1  6.709645     ...         35375   \n",
       "East South Central   52816  4.000000      1  7.304855     ...         13204   \n",
       "Middle Atlantic     113044  4.077037      1  7.135652     ...         27727   \n",
       "Mountain             62765  3.962937      1  6.949176     ...         15838   \n",
       "New England          40416  3.905682      1  7.161045     ...         10348   \n",
       "\n",
       "                                                          TRTSPOUSE           \\\n",
       "                        sum       mean median         std     count      sum   \n",
       "Region                                                                         \n",
       "East North Central  2991541  84.566530      0  167.974134     35375  5664459   \n",
       "East South Central  1073662  81.313390      0  167.874332     13204  2126523   \n",
       "Middle Atlantic     2181260  78.669167      0  158.442218     27727  4298571   \n",
       "Mountain            1340510  84.638843      0  163.872849     15838  2556193   \n",
       "New England          999630  96.601276      0  177.273041     10348  1892851   \n",
       "\n",
       "                                                   \n",
       "                          mean median         std  \n",
       "Region                                             \n",
       "East North Central  160.126049      0  239.355960  \n",
       "East South Central  161.051424      0  242.516071  \n",
       "Middle Atlantic     155.031954      0  232.138266  \n",
       "Mountain            161.396199      0  229.011062  \n",
       "New England         182.919501      0  248.571837  \n",
       "\n",
       "[5 rows x 75 columns]"
      ]
     },
     "execution_count": 11,
     "metadata": {},
     "output_type": "execute_result"
    }
   ],
   "source": [
    "grouped_by_region = result[(result.TRTALONE_WK > 0)]\n",
    "grouped_by_region = result.groupby(['Region']).agg(['count', 'sum', 'mean', 'median', 'std'])\n",
    "grouped_by_region.head()"
   ]
  },
  {
   "cell_type": "markdown",
   "metadata": {},
   "source": [
    "## Average amount of activities per day by Region"
   ]
  },
  {
   "cell_type": "code",
   "execution_count": 12,
   "metadata": {
    "collapsed": false
   },
   "outputs": [
    {
     "data": {
      "text/plain": [
       "<matplotlib.axes._subplots.AxesSubplot at 0x10ca3af28>"
      ]
     },
     "execution_count": 12,
     "metadata": {},
     "output_type": "execute_result"
    },
    {
     "data": {
      "image/png": "[encoded data removed]",
      "text/plain": [
       "<matplotlib.figure.Figure at 0x109e43f60>"
      ]
     },
     "metadata": {},
     "output_type": "display_data"
    }
   ],
   "source": [
    "(grouped_by_region['activitycount']['mean']).plot.barh()"
   ]
  },
  {
   "cell_type": "markdown",
   "metadata": {},
   "source": [
    "## Data Frame sorted by Activity Code"
   ]
  },
  {
   "cell_type": "code",
   "execution_count": 13,
   "metadata": {
    "collapsed": false
   },
   "outputs": [
    {
     "data": {
      "text/html": [
       "<div>\n",
       "<table border=\"1\" class=\"dataframe\">\n",
       "  <thead>\n",
       "    <tr>\n",
       "      <th></th>\n",
       "      <th colspan=\"5\" halign=\"left\">activitycount</th>\n",
       "      <th colspan=\"5\" halign=\"left\">actloc</th>\n",
       "      <th>...</th>\n",
       "      <th colspan=\"5\" halign=\"left\">TRTSPONLY</th>\n",
       "      <th colspan=\"5\" halign=\"left\">TRTSPOUSE</th>\n",
       "    </tr>\n",
       "    <tr>\n",
       "      <th></th>\n",
       "      <th>count</th>\n",
       "      <th>sum</th>\n",
       "      <th>mean</th>\n",
       "      <th>median</th>\n",
       "      <th>std</th>\n",
       "      <th>count</th>\n",
       "      <th>sum</th>\n",
       "      <th>mean</th>\n",
       "      <th>median</th>\n",
       "      <th>std</th>\n",
       "      <th>...</th>\n",
       "      <th>count</th>\n",
       "      <th>sum</th>\n",
       "      <th>mean</th>\n",
       "      <th>median</th>\n",
       "      <th>std</th>\n",
       "      <th>count</th>\n",
       "      <th>sum</th>\n",
       "      <th>mean</th>\n",
       "      <th>median</th>\n",
       "      <th>std</th>\n",
       "    </tr>\n",
       "    <tr>\n",
       "      <th>TUTIER1CODE</th>\n",
       "      <th></th>\n",
       "      <th></th>\n",
       "      <th></th>\n",
       "      <th></th>\n",
       "      <th></th>\n",
       "      <th></th>\n",
       "      <th></th>\n",
       "      <th></th>\n",
       "      <th></th>\n",
       "      <th></th>\n",
       "      <th></th>\n",
       "      <th></th>\n",
       "      <th></th>\n",
       "      <th></th>\n",
       "      <th></th>\n",
       "      <th></th>\n",
       "      <th></th>\n",
       "      <th></th>\n",
       "      <th></th>\n",
       "      <th></th>\n",
       "      <th></th>\n",
       "    </tr>\n",
       "  </thead>\n",
       "  <tbody>\n",
       "    <tr>\n",
       "      <th>1</th>\n",
       "      <td>42546</td>\n",
       "      <td>451558</td>\n",
       "      <td>10.613407</td>\n",
       "      <td>8.0</td>\n",
       "      <td>9.979576</td>\n",
       "      <td>42546</td>\n",
       "      <td>-39470</td>\n",
       "      <td>-0.927702</td>\n",
       "      <td>-1</td>\n",
       "      <td>0.467277</td>\n",
       "      <td>...</td>\n",
       "      <td>42546</td>\n",
       "      <td>3524110</td>\n",
       "      <td>82.830583</td>\n",
       "      <td>0</td>\n",
       "      <td>168.329281</td>\n",
       "      <td>42546</td>\n",
       "      <td>6484276</td>\n",
       "      <td>152.406243</td>\n",
       "      <td>0</td>\n",
       "      <td>236.187247</td>\n",
       "    </tr>\n",
       "    <tr>\n",
       "      <th>2</th>\n",
       "      <td>33221</td>\n",
       "      <td>386405</td>\n",
       "      <td>11.631348</td>\n",
       "      <td>10.0</td>\n",
       "      <td>8.120110</td>\n",
       "      <td>33221</td>\n",
       "      <td>52671</td>\n",
       "      <td>1.585473</td>\n",
       "      <td>1</td>\n",
       "      <td>2.725018</td>\n",
       "      <td>...</td>\n",
       "      <td>33221</td>\n",
       "      <td>3251308</td>\n",
       "      <td>97.869059</td>\n",
       "      <td>0</td>\n",
       "      <td>177.481029</td>\n",
       "      <td>33221</td>\n",
       "      <td>5761602</td>\n",
       "      <td>173.432528</td>\n",
       "      <td>0</td>\n",
       "      <td>241.406953</td>\n",
       "    </tr>\n",
       "    <tr>\n",
       "      <th>3</th>\n",
       "      <td>11807</td>\n",
       "      <td>175983</td>\n",
       "      <td>14.904972</td>\n",
       "      <td>14.0</td>\n",
       "      <td>9.783361</td>\n",
       "      <td>11807</td>\n",
       "      <td>63828</td>\n",
       "      <td>5.405946</td>\n",
       "      <td>1</td>\n",
       "      <td>15.367670</td>\n",
       "      <td>...</td>\n",
       "      <td>11807</td>\n",
       "      <td>789218</td>\n",
       "      <td>66.843229</td>\n",
       "      <td>10</td>\n",
       "      <td>116.775439</td>\n",
       "      <td>11807</td>\n",
       "      <td>2556701</td>\n",
       "      <td>216.541120</td>\n",
       "      <td>140</td>\n",
       "      <td>239.959530</td>\n",
       "    </tr>\n",
       "    <tr>\n",
       "      <th>4</th>\n",
       "      <td>2464</td>\n",
       "      <td>34472</td>\n",
       "      <td>13.990260</td>\n",
       "      <td>12.0</td>\n",
       "      <td>8.166601</td>\n",
       "      <td>2464</td>\n",
       "      <td>28370</td>\n",
       "      <td>11.513799</td>\n",
       "      <td>3</td>\n",
       "      <td>24.554773</td>\n",
       "      <td>...</td>\n",
       "      <td>2464</td>\n",
       "      <td>150999</td>\n",
       "      <td>61.282062</td>\n",
       "      <td>0</td>\n",
       "      <td>133.383973</td>\n",
       "      <td>2464</td>\n",
       "      <td>318404</td>\n",
       "      <td>129.222403</td>\n",
       "      <td>0</td>\n",
       "      <td>226.894815</td>\n",
       "    </tr>\n",
       "    <tr>\n",
       "      <th>5</th>\n",
       "      <td>9938</td>\n",
       "      <td>94563</td>\n",
       "      <td>9.515295</td>\n",
       "      <td>8.0</td>\n",
       "      <td>5.688380</td>\n",
       "      <td>9938</td>\n",
       "      <td>23249</td>\n",
       "      <td>2.339404</td>\n",
       "      <td>2</td>\n",
       "      <td>2.580303</td>\n",
       "      <td>...</td>\n",
       "      <td>9938</td>\n",
       "      <td>521693</td>\n",
       "      <td>52.494768</td>\n",
       "      <td>0</td>\n",
       "      <td>103.202104</td>\n",
       "      <td>9938</td>\n",
       "      <td>973752</td>\n",
       "      <td>97.982693</td>\n",
       "      <td>0</td>\n",
       "      <td>147.416814</td>\n",
       "    </tr>\n",
       "  </tbody>\n",
       "</table>\n",
       "<p>5 rows × 70 columns</p>\n",
       "</div>"
      ],
      "text/plain": [
       "            activitycount                                     actloc         \\\n",
       "                    count     sum       mean median       std  count    sum   \n",
       "TUTIER1CODE                                                                   \n",
       "1                   42546  451558  10.613407    8.0  9.979576  42546 -39470   \n",
       "2                   33221  386405  11.631348   10.0  8.120110  33221  52671   \n",
       "3                   11807  175983  14.904972   14.0  9.783361  11807  63828   \n",
       "4                    2464   34472  13.990260   12.0  8.166601   2464  28370   \n",
       "5                    9938   94563   9.515295    8.0  5.688380   9938  23249   \n",
       "\n",
       "                                             ...     TRTSPONLY           \\\n",
       "                  mean median        std     ...         count      sum   \n",
       "TUTIER1CODE                                  ...                          \n",
       "1            -0.927702     -1   0.467277     ...         42546  3524110   \n",
       "2             1.585473      1   2.725018     ...         33221  3251308   \n",
       "3             5.405946      1  15.367670     ...         11807   789218   \n",
       "4            11.513799      3  24.554773     ...          2464   150999   \n",
       "5             2.339404      2   2.580303     ...          9938   521693   \n",
       "\n",
       "                                          TRTSPOUSE                       \\\n",
       "                  mean median         std     count      sum        mean   \n",
       "TUTIER1CODE                                                                \n",
       "1            82.830583      0  168.329281     42546  6484276  152.406243   \n",
       "2            97.869059      0  177.481029     33221  5761602  173.432528   \n",
       "3            66.843229     10  116.775439     11807  2556701  216.541120   \n",
       "4            61.282062      0  133.383973      2464   318404  129.222403   \n",
       "5            52.494768      0  103.202104      9938   973752   97.982693   \n",
       "\n",
       "                                \n",
       "            median         std  \n",
       "TUTIER1CODE                     \n",
       "1                0  236.187247  \n",
       "2                0  241.406953  \n",
       "3              140  239.959530  \n",
       "4                0  226.894815  \n",
       "5                0  147.416814  \n",
       "\n",
       "[5 rows x 70 columns]"
      ]
     },
     "execution_count": 13,
     "metadata": {},
     "output_type": "execute_result"
    }
   ],
   "source": [
    "grouped_by_act = result.groupby(['TUTIER1CODE']).agg(['count', 'sum', 'mean', 'median', 'std'])\n",
    "grouped_by_act = grouped_by_act[:-1]\n",
    "grouped_by_act.head()"
   ]
  },
  {
   "cell_type": "markdown",
   "metadata": {},
   "source": [
    "### Count of each activity"
   ]
  },
  {
   "cell_type": "code",
   "execution_count": 14,
   "metadata": {
    "collapsed": false
   },
   "outputs": [
    {
     "data": {
      "text/plain": [
       "<matplotlib.axes._subplots.AxesSubplot at 0x10e287240>"
      ]
     },
     "execution_count": 14,
     "metadata": {},
     "output_type": "execute_result"
    },
    {
     "data": {
      "image/png": "[encoded data removed]",
      "text/plain": [
       "<matplotlib.figure.Figure at 0x10ca79e48>"
      ]
     },
     "metadata": {},
     "output_type": "display_data"
    }
   ],
   "source": [
    "(grouped_by_act.activitycount['count']).plot.bar()"
   ]
  },
  {
   "cell_type": "markdown",
   "metadata": {},
   "source": [
    "### Average amount of time spend on each activity"
   ]
  },
  {
   "cell_type": "code",
   "execution_count": 15,
   "metadata": {
    "collapsed": false
   },
   "outputs": [
    {
     "data": {
      "text/plain": [
       "<matplotlib.axes._subplots.AxesSubplot at 0x10a21c630>"
      ]
     },
     "execution_count": 15,
     "metadata": {},
     "output_type": "execute_result"
    },
    {
     "data": {
      "image/png": "[encoded data removed]",
      "text/plain": [
       "<matplotlib.figure.Figure at 0x10e26f4e0>"
      ]
     },
     "metadata": {},
     "output_type": "display_data"
    }
   ],
   "source": [
    "(grouped_by_act.activduration['mean']).plot.bar()"
   ]
  },
  {
   "cell_type": "markdown",
   "metadata": {},
   "source": [
    "## DataFrame grouped by income"
   ]
  },
  {
   "cell_type": "code",
   "execution_count": 16,
   "metadata": {
    "collapsed": false
   },
   "outputs": [
    {
     "data": {
      "text/html": [
       "<div>\n",
       "<table border=\"1\" class=\"dataframe\">\n",
       "  <thead>\n",
       "    <tr>\n",
       "      <th></th>\n",
       "      <th colspan=\"5\" halign=\"left\">activitycount</th>\n",
       "      <th colspan=\"5\" halign=\"left\">actloc</th>\n",
       "      <th>...</th>\n",
       "      <th colspan=\"5\" halign=\"left\">TRTSPONLY</th>\n",
       "      <th colspan=\"5\" halign=\"left\">TRTSPOUSE</th>\n",
       "    </tr>\n",
       "    <tr>\n",
       "      <th></th>\n",
       "      <th>mean</th>\n",
       "      <th>sum</th>\n",
       "      <th>count</th>\n",
       "      <th>median</th>\n",
       "      <th>std</th>\n",
       "      <th>mean</th>\n",
       "      <th>sum</th>\n",
       "      <th>count</th>\n",
       "      <th>median</th>\n",
       "      <th>std</th>\n",
       "      <th>...</th>\n",
       "      <th>mean</th>\n",
       "      <th>sum</th>\n",
       "      <th>count</th>\n",
       "      <th>median</th>\n",
       "      <th>std</th>\n",
       "      <th>mean</th>\n",
       "      <th>sum</th>\n",
       "      <th>count</th>\n",
       "      <th>median</th>\n",
       "      <th>std</th>\n",
       "    </tr>\n",
       "    <tr>\n",
       "      <th>family_income</th>\n",
       "      <th></th>\n",
       "      <th></th>\n",
       "      <th></th>\n",
       "      <th></th>\n",
       "      <th></th>\n",
       "      <th></th>\n",
       "      <th></th>\n",
       "      <th></th>\n",
       "      <th></th>\n",
       "      <th></th>\n",
       "      <th></th>\n",
       "      <th></th>\n",
       "      <th></th>\n",
       "      <th></th>\n",
       "      <th></th>\n",
       "      <th></th>\n",
       "      <th></th>\n",
       "      <th></th>\n",
       "      <th></th>\n",
       "      <th></th>\n",
       "      <th></th>\n",
       "    </tr>\n",
       "  </thead>\n",
       "  <tbody>\n",
       "    <tr>\n",
       "      <th>1</th>\n",
       "      <td>10.254021</td>\n",
       "      <td>49086</td>\n",
       "      <td>4787</td>\n",
       "      <td>9</td>\n",
       "      <td>7.265790</td>\n",
       "      <td>3.641738</td>\n",
       "      <td>17433</td>\n",
       "      <td>4787</td>\n",
       "      <td>1</td>\n",
       "      <td>6.473105</td>\n",
       "      <td>...</td>\n",
       "      <td>39.175266</td>\n",
       "      <td>187532</td>\n",
       "      <td>4787</td>\n",
       "      <td>0</td>\n",
       "      <td>132.427091</td>\n",
       "      <td>75.018383</td>\n",
       "      <td>359113</td>\n",
       "      <td>4787</td>\n",
       "      <td>0</td>\n",
       "      <td>187.525274</td>\n",
       "    </tr>\n",
       "    <tr>\n",
       "      <th>2</th>\n",
       "      <td>10.488396</td>\n",
       "      <td>30280</td>\n",
       "      <td>2887</td>\n",
       "      <td>9</td>\n",
       "      <td>7.547708</td>\n",
       "      <td>3.560790</td>\n",
       "      <td>10280</td>\n",
       "      <td>2887</td>\n",
       "      <td>1</td>\n",
       "      <td>6.877230</td>\n",
       "      <td>...</td>\n",
       "      <td>48.435054</td>\n",
       "      <td>139832</td>\n",
       "      <td>2887</td>\n",
       "      <td>0</td>\n",
       "      <td>148.226559</td>\n",
       "      <td>77.130932</td>\n",
       "      <td>222677</td>\n",
       "      <td>2887</td>\n",
       "      <td>0</td>\n",
       "      <td>192.369278</td>\n",
       "    </tr>\n",
       "    <tr>\n",
       "      <th>3</th>\n",
       "      <td>10.916651</td>\n",
       "      <td>58546</td>\n",
       "      <td>5363</td>\n",
       "      <td>9</td>\n",
       "      <td>8.059525</td>\n",
       "      <td>3.443409</td>\n",
       "      <td>18467</td>\n",
       "      <td>5363</td>\n",
       "      <td>1</td>\n",
       "      <td>6.388101</td>\n",
       "      <td>...</td>\n",
       "      <td>36.917397</td>\n",
       "      <td>197988</td>\n",
       "      <td>5363</td>\n",
       "      <td>0</td>\n",
       "      <td>135.379149</td>\n",
       "      <td>64.020138</td>\n",
       "      <td>343340</td>\n",
       "      <td>5363</td>\n",
       "      <td>0</td>\n",
       "      <td>186.582647</td>\n",
       "    </tr>\n",
       "    <tr>\n",
       "      <th>4</th>\n",
       "      <td>10.741875</td>\n",
       "      <td>74699</td>\n",
       "      <td>6954</td>\n",
       "      <td>9</td>\n",
       "      <td>7.507833</td>\n",
       "      <td>3.275381</td>\n",
       "      <td>22777</td>\n",
       "      <td>6954</td>\n",
       "      <td>1</td>\n",
       "      <td>6.231864</td>\n",
       "      <td>...</td>\n",
       "      <td>37.419758</td>\n",
       "      <td>260217</td>\n",
       "      <td>6954</td>\n",
       "      <td>0</td>\n",
       "      <td>131.067267</td>\n",
       "      <td>60.820679</td>\n",
       "      <td>422947</td>\n",
       "      <td>6954</td>\n",
       "      <td>0</td>\n",
       "      <td>173.664439</td>\n",
       "    </tr>\n",
       "    <tr>\n",
       "      <th>5</th>\n",
       "      <td>10.838677</td>\n",
       "      <td>63894</td>\n",
       "      <td>5895</td>\n",
       "      <td>9</td>\n",
       "      <td>8.102348</td>\n",
       "      <td>3.519254</td>\n",
       "      <td>20746</td>\n",
       "      <td>5895</td>\n",
       "      <td>1</td>\n",
       "      <td>7.249885</td>\n",
       "      <td>...</td>\n",
       "      <td>58.548940</td>\n",
       "      <td>345146</td>\n",
       "      <td>5895</td>\n",
       "      <td>0</td>\n",
       "      <td>158.567294</td>\n",
       "      <td>95.478032</td>\n",
       "      <td>562843</td>\n",
       "      <td>5895</td>\n",
       "      <td>0</td>\n",
       "      <td>210.718017</td>\n",
       "    </tr>\n",
       "  </tbody>\n",
       "</table>\n",
       "<p>5 rows × 70 columns</p>\n",
       "</div>"
      ],
      "text/plain": [
       "              activitycount                                  actloc         \\\n",
       "                       mean    sum count median       std      mean    sum   \n",
       "family_income                                                                \n",
       "1                 10.254021  49086  4787      9  7.265790  3.641738  17433   \n",
       "2                 10.488396  30280  2887      9  7.547708  3.560790  10280   \n",
       "3                 10.916651  58546  5363      9  8.059525  3.443409  18467   \n",
       "4                 10.741875  74699  6954      9  7.507833  3.275381  22777   \n",
       "5                 10.838677  63894  5895      9  8.102348  3.519254  20746   \n",
       "\n",
       "                                         ...      TRTSPONLY                \\\n",
       "              count median       std     ...           mean     sum count   \n",
       "family_income                            ...                                \n",
       "1              4787      1  6.473105     ...      39.175266  187532  4787   \n",
       "2              2887      1  6.877230     ...      48.435054  139832  2887   \n",
       "3              5363      1  6.388101     ...      36.917397  197988  5363   \n",
       "4              6954      1  6.231864     ...      37.419758  260217  6954   \n",
       "5              5895      1  7.249885     ...      58.548940  345146  5895   \n",
       "\n",
       "                                  TRTSPOUSE                                   \n",
       "              median         std       mean     sum count median         std  \n",
       "family_income                                                                 \n",
       "1                  0  132.427091  75.018383  359113  4787      0  187.525274  \n",
       "2                  0  148.226559  77.130932  222677  2887      0  192.369278  \n",
       "3                  0  135.379149  64.020138  343340  5363      0  186.582647  \n",
       "4                  0  131.067267  60.820679  422947  6954      0  173.664439  \n",
       "5                  0  158.567294  95.478032  562843  5895      0  210.718017  \n",
       "\n",
       "[5 rows x 70 columns]"
      ]
     },
     "execution_count": 16,
     "metadata": {},
     "output_type": "execute_result"
    }
   ],
   "source": [
    "grouped_by_income = result.groupby(['family_income']).agg(['mean', 'sum', 'count', 'median', \n",
    "                                                           'std'])\n",
    "grouped_by_income.head()"
   ]
  },
  {
   "cell_type": "markdown",
   "metadata": {},
   "source": [
    "## Average amount of activites by income"
   ]
  },
  {
   "cell_type": "code",
   "execution_count": 17,
   "metadata": {
    "collapsed": false
   },
   "outputs": [
    {
     "data": {
      "text/plain": [
       "<matplotlib.axes._subplots.AxesSubplot at 0x10dda26d8>"
      ]
     },
     "execution_count": 17,
     "metadata": {},
     "output_type": "execute_result"
    },
    {
     "data": {
      "image/png": "[encoded data removed]",
      "text/plain": [
       "<matplotlib.figure.Figure at 0x10dd70a20>"
      ]
     },
     "metadata": {},
     "output_type": "display_data"
    }
   ],
   "source": [
    "result_agg = result.groupby(result.index).agg(['mean', 'sum', 'count', 'median', 'std'])\n",
    "corr = (result_agg['family_income']['mean']).corr(result_agg.activitycount['count'])\n",
    "(grouped_by_income.activitycount['median']).plot.bar(title='Activity Count by family '\n",
    "                                                     'income\\n corr = {}'.format(corr))\n"
   ]
  },
  {
   "cell_type": "markdown",
   "metadata": {
    "collapsed": true
   },
   "source": [
    "## Num of people in household vs Income"
   ]
  },
  {
   "cell_type": "code",
   "execution_count": 18,
   "metadata": {
    "collapsed": false
   },
   "outputs": [
    {
     "data": {
      "text/plain": [
       "<matplotlib.axes._subplots.AxesSubplot at 0x10ddb7630>"
      ]
     },
     "execution_count": 18,
     "metadata": {},
     "output_type": "execute_result"
    },
    {
     "data": {
      "image/png": "[encoded data removed]",
      "text/plain": [
       "<matplotlib.figure.Figure at 0x10a236438>"
      ]
     },
     "metadata": {},
     "output_type": "display_data"
    }
   ],
   "source": [
    "corr = result['family_income'].corr(result['num_people_in_household'])\n",
    "(grouped_by_income['num_people_in_household']['mean']).plot.bar(title='Num of people in'\n",
    "                                                                'household vs income\\n corr = {}'\n",
    "                                                                .format(corr))"
   ]
  },
  {
   "cell_type": "markdown",
   "metadata": {},
   "source": [
    "## Time spent alone vs income"
   ]
  },
  {
   "cell_type": "code",
   "execution_count": 19,
   "metadata": {
    "collapsed": false
   },
   "outputs": [
    {
     "data": {
      "text/plain": [
       "<matplotlib.axes._subplots.AxesSubplot at 0x10a1590f0>"
      ]
     },
     "execution_count": 19,
     "metadata": {},
     "output_type": "execute_result"
    },
    {
     "data": {
      "image/png": "[encoded data removed]",
      "text/plain": [
       "<matplotlib.figure.Figure at 0x109e57550>"
      ]
     },
     "metadata": {},
     "output_type": "display_data"
    }
   ],
   "source": [
    "corr = result['family_income'].corr(result['TRTALONE'])\n",
    "(grouped_by_income['TRTALONE']['mean']).plot.bar(title='Time spent alone vs income\\n corr = {}'\n",
    "                                                 .format(corr))"
   ]
  },
  {
   "cell_type": "markdown",
   "metadata": {},
   "source": [
    "## Time spent with kids vs Income"
   ]
  },
  {
   "cell_type": "code",
   "execution_count": 20,
   "metadata": {
    "collapsed": false
   },
   "outputs": [
    {
     "data": {
      "text/plain": [
       "<matplotlib.axes._subplots.AxesSubplot at 0x10b3249b0>"
      ]
     },
     "execution_count": 20,
     "metadata": {},
     "output_type": "execute_result"
    },
    {
     "data": {
      "image/png": "[encoded data removed]",
      "text/plain": [
       "<matplotlib.figure.Figure at 0x10b2b4748>"
      ]
     },
     "metadata": {},
     "output_type": "display_data"
    }
   ],
   "source": [
    "corr = result['family_income'].corr(result['TRTCHILD'])\n",
    "(grouped_by_income['TRTCHILD']['mean']).plot.bar(title='Time spent with kids vs income\\n corr'\n",
    "                                                 '= {}'.format(corr))"
   ]
  },
  {
   "cell_type": "markdown",
   "metadata": {},
   "source": [
    "## Time spent with family vs Income"
   ]
  },
  {
   "cell_type": "code",
   "execution_count": 21,
   "metadata": {
    "collapsed": false
   },
   "outputs": [
    {
     "data": {
      "text/plain": [
       "<matplotlib.axes._subplots.AxesSubplot at 0x10b466be0>"
      ]
     },
     "execution_count": 21,
     "metadata": {},
     "output_type": "execute_result"
    },
    {
     "data": {
      "image/png": "[encoded data removed]",
      "text/plain": [
       "<matplotlib.figure.Figure at 0x10b2f2c18>"
      ]
     },
     "metadata": {},
     "output_type": "display_data"
    }
   ],
   "source": [
    "corr = result['family_income'].corr(result['TRTFAMILY'])\n",
    "(grouped_by_income['TRTFAMILY']['mean']).plot.bar(title='Time spent with family vs '\n",
    "                                                  'income\\n corr = {}'.format(corr))"
   ]
  },
  {
   "cell_type": "markdown",
   "metadata": {},
   "source": [
    "## Time spent with only spouse vs Income"
   ]
  },
  {
   "cell_type": "code",
   "execution_count": 22,
   "metadata": {
    "collapsed": false
   },
   "outputs": [
    {
     "data": {
      "text/plain": [
       "<matplotlib.axes._subplots.AxesSubplot at 0x10bd92160>"
      ]
     },
     "execution_count": 22,
     "metadata": {},
     "output_type": "execute_result"
    },
    {
     "data": {
      "image/png": "[encoded data removed]",
      "text/plain": [
       "<matplotlib.figure.Figure at 0x10b459278>"
      ]
     },
     "metadata": {},
     "output_type": "display_data"
    }
   ],
   "source": [
    "corr = result['family_income'].corr(result['TRTSPONLY'])\n",
    "(grouped_by_income['TRTSPONLY']['mean']).plot.bar(title='Time spent with spouse'\n",
    "                                                  ' only vs income\\n corr = {}'.format(corr))"
   ]
  },
  {
   "cell_type": "markdown",
   "metadata": {},
   "source": [
    "## Timespent with Spouse in group setting vs Income"
   ]
  },
  {
   "cell_type": "code",
   "execution_count": 23,
   "metadata": {
    "collapsed": false
   },
   "outputs": [
    {
     "data": {
      "text/plain": [
       "<matplotlib.axes._subplots.AxesSubplot at 0x10be929b0>"
      ]
     },
     "execution_count": 23,
     "metadata": {},
     "output_type": "execute_result"
    },
    {
     "data": {
      "image/png": "[encoded data removed]",
      "text/plain": [
       "<matplotlib.figure.Figure at 0x10bd9ed30>"
      ]
     },
     "metadata": {},
     "output_type": "display_data"
    }
   ],
   "source": [
    "corr = result['family_income'].corr(result['TRTSPOUSE'])\n",
    "(grouped_by_income['TRTSPOUSE']['mean']).plot.bar(title='Time spent with spouse + '\n",
    "                                                'others vs income\\n corr = {}'.format(corr))"
   ]
  }
 ],
 "metadata": {
  "kernelspec": {
   "display_name": "Python 3",
   "language": "python",
   "name": "python3"
  },
  "language_info": {
   "codemirror_mode": {
    "name": "ipython",
    "version": 3
   },
   "file_extension": ".py",
   "mimetype": "text/x-python",
   "name": "python",
   "nbconvert_exporter": "python",
   "pygments_lexer": "ipython3",
   "version": "3.5.1"
  }
 },
 "nbformat": 4,
 "nbformat_minor": 0
}
